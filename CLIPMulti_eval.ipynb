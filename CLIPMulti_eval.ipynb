{
 "cells": [
  {
   "cell_type": "code",
   "execution_count": 6,
   "id": "9f0ec087-9a63-4ef4-a7ff-3054a1fabf75",
   "metadata": {},
   "outputs": [
    {
     "name": "stdout",
     "output_type": "stream",
     "text": [
      "############################################################\n",
      "all_eval\n",
      "dataset: topic\n",
      "load model\n",
      "100%|██████████████████████████████████| 100000/100000 [08:25<00:00, 197.86it/s]\n",
      "CLIPMulti (NSC) eval: 0.56202\n",
      "load model\n",
      "100%|██████████████████████████████████| 100000/100000 [09:10<00:00, 181.67it/s]\n",
      "CLIPMulti (NWSC) eval: 0.56528\n",
      "load model\n",
      "100%|██████████████████████████████████| 100000/100000 [08:07<00:00, 205.04it/s]\n",
      "CLIPMulti (MF) eval: 0.56613\n",
      "############################################################\n"
     ]
    }
   ],
   "source": [
    "!python main.py --dataset topic --combination all --prompt 0 --num_of_word 30 --topk 1 --test"
   ]
  },
  {
   "cell_type": "code",
   "execution_count": 7,
   "id": "af9651dc-003a-4c5f-bc3f-822ee49f5bce",
   "metadata": {},
   "outputs": [
    {
     "name": "stdout",
     "output_type": "stream",
     "text": [
      "############################################################\n",
      "all_eval\n",
      "dataset: emotion\n",
      "load model\n",
      "100%|████████████████████████████████████| 15942/15942 [01:21<00:00, 196.74it/s]\n",
      "CLIPMulti (NSC) eval:\n",
      "{'macro_f1': 0.19124009660089236, 'micro_f1': 0.25341864257935015, 'weighted_f1': 0.24949681726028014, 'acc': 0.25341864257935015}\n",
      "load model\n",
      "100%|████████████████████████████████████| 15942/15942 [01:21<00:00, 194.52it/s]\n",
      "CLIPMulti (NWSC) eval:\n",
      "{'macro_f1': 0.18367906645348747, 'micro_f1': 0.23434951699912185, 'weighted_f1': 0.23538236741760635, 'acc': 0.23434951699912182}\n",
      "load model\n",
      "100%|████████████████████████████████████| 15942/15942 [01:15<00:00, 210.13it/s]\n",
      "CLIPMulti (MF) eval:\n",
      "{'macro_f1': 0.18664462239656, 'micro_f1': 0.2617613850207, 'weighted_f1': 0.24986818527527535, 'acc': 0.2617613850207}\n",
      "############################################################\n"
     ]
    }
   ],
   "source": [
    "!python main.py --dataset emotion --combination all --prompt 0 --num_of_word 30 --topk 1 --test"
   ]
  },
  {
   "cell_type": "code",
   "execution_count": 8,
   "id": "00d28c53-55fc-40b9-9440-ed36e3daf69b",
   "metadata": {},
   "outputs": [
    {
     "name": "stdout",
     "output_type": "stream",
     "text": [
      "############################################################\n",
      "all_eval\n",
      "dataset: situation\n",
      "load model\n",
      "100%|██████████████████████████████████████| 3525/3525 [00:18<00:00, 190.14it/s]\n",
      "CLIPMulti (NSC) eval:\n",
      "{'macro_f1': 0.1261885706727724, 'micro_f1': 0.18169209431345354, 'weighted_f1': 0.1934376467795459, 'acc': 0.22609929078014185}\n",
      "load model\n",
      "100%|██████████████████████████████████████| 3525/3525 [00:18<00:00, 188.48it/s]\n",
      "CLIPMulti (NWSC) eval:\n",
      "{'macro_f1': 0.03906023747465972, 'micro_f1': 0.266353986669958, 'weighted_f1': 0.11049856998511995, 'acc': 0.30609929078014186}\n",
      "load model\n",
      "100%|██████████████████████████████████████| 3525/3525 [00:17<00:00, 205.16it/s]\n",
      "CLIPMulti (MF) eval:\n",
      "{'macro_f1': 0.1776142905003627, 'micro_f1': 0.22210565754964406, 'weighted_f1': 0.23410375654583396, 'acc': 0.20851063829787234}\n",
      "############################################################\n"
     ]
    }
   ],
   "source": [
    "!python main.py --dataset situation --combination all --prompt 0 --num_of_word 30 --topk 1 --test"
   ]
  },
  {
   "cell_type": "code",
   "execution_count": 9,
   "id": "08eb391d-e232-43f6-a204-a6f93f04a170",
   "metadata": {},
   "outputs": [
    {
     "name": "stdout",
     "output_type": "stream",
     "text": [
      "############################################################\n",
      "all_eval\n",
      "dataset: agnews\n",
      "load model\n",
      "100%|██████████████████████████████████████| 7600/7600 [00:37<00:00, 201.14it/s]\n",
      "CLIPMulti (NSC) eval: 0.8060526315789474\n",
      "load model\n",
      "100%|██████████████████████████████████████| 7600/7600 [00:38<00:00, 196.47it/s]\n",
      "CLIPMulti (NWSC) eval: 0.795921052631579\n",
      "load model\n",
      "100%|██████████████████████████████████████| 7600/7600 [00:37<00:00, 205.39it/s]\n",
      "CLIPMulti (MF) eval: 0.815\n",
      "############################################################\n"
     ]
    }
   ],
   "source": [
    "!python main.py --dataset agnews --combination all --prompt 0 --num_of_word 30 --topk 1 --test"
   ]
  },
  {
   "cell_type": "code",
   "execution_count": 10,
   "id": "f8d9c397-c1e1-4dcc-9e93-cb6746d66419",
   "metadata": {},
   "outputs": [
    {
     "name": "stdout",
     "output_type": "stream",
     "text": [
      "############################################################\n",
      "all_eval\n",
      "dataset: snips\n",
      "load model\n",
      "100%|████████████████████████████████████████| 700/700 [00:03<00:00, 204.32it/s]\n",
      "CLIPMulti (NSC) eval: 0.8342857142857143\n",
      "load model\n",
      "100%|████████████████████████████████████████| 700/700 [00:03<00:00, 193.35it/s]\n",
      "CLIPMulti (NWSC) eval: 0.8357142857142857\n",
      "load model\n",
      "100%|████████████████████████████████████████| 700/700 [00:03<00:00, 213.28it/s]\n",
      "CLIPMulti (MF) eval: 0.8385714285714285\n",
      "############################################################\n"
     ]
    }
   ],
   "source": [
    "!python main.py --dataset snips --combination all --prompt 0 --num_of_word 30 --topk 1 --test"
   ]
  },
  {
   "cell_type": "code",
   "execution_count": 11,
   "id": "b554103a-4fcc-48f3-a04f-b851d48d3d33",
   "metadata": {},
   "outputs": [
    {
     "name": "stdout",
     "output_type": "stream",
     "text": [
      "############################################################\n",
      "all_eval\n",
      "dataset: trec\n",
      "load model\n",
      "100%|████████████████████████████████████████| 500/500 [00:02<00:00, 204.71it/s]\n",
      "CLIPMulti (NSC) eval: 0.458\n",
      "load model\n",
      "100%|████████████████████████████████████████| 500/500 [00:02<00:00, 193.84it/s]\n",
      "CLIPMulti (NWSC) eval: 0.472\n",
      "load model\n",
      "100%|████████████████████████████████████████| 500/500 [00:02<00:00, 212.14it/s]\n",
      "CLIPMulti (MF) eval: 0.48\n",
      "############################################################\n"
     ]
    }
   ],
   "source": [
    "!python main.py --dataset trec --combination all --prompt 0 --num_of_word 30 --topk 1 --test"
   ]
  },
  {
   "cell_type": "code",
   "execution_count": 13,
   "id": "746a6edf-d998-4c86-b019-35e599e69b99",
   "metadata": {},
   "outputs": [
    {
     "name": "stdout",
     "output_type": "stream",
     "text": [
      "############################################################\n",
      "all_eval\n",
      "dataset: subj\n",
      "load model\n",
      "100%|██████████████████████████████████████| 1000/1000 [00:04<00:00, 205.24it/s]\n",
      "CLIPMulti (MF) eval: 0.703\n",
      "############################################################\n"
     ]
    }
   ],
   "source": [
    "!python main.py --dataset subj --combination all --prompt 0 --num_of_word 30 --topk 1 --test"
   ]
  },
  {
   "cell_type": "code",
   "execution_count": null,
   "id": "ed06caf6-fd64-4111-a4a5-cc94ff090144",
   "metadata": {},
   "outputs": [],
   "source": []
  }
 ],
 "metadata": {
  "kernelspec": {
   "display_name": "Python 3 (ipykernel)",
   "language": "python",
   "name": "python3"
  },
  "language_info": {
   "codemirror_mode": {
    "name": "ipython",
    "version": 3
   },
   "file_extension": ".py",
   "mimetype": "text/x-python",
   "name": "python",
   "nbconvert_exporter": "python",
   "pygments_lexer": "ipython3",
   "version": "3.10.0"
  }
 },
 "nbformat": 4,
 "nbformat_minor": 5
}
