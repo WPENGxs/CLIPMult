{
 "cells": [
  {
   "cell_type": "code",
   "execution_count": 2,
   "id": "5d217641-ec86-4833-93db-c0d241d2d60e",
   "metadata": {},
   "outputs": [
    {
     "name": "stdout",
     "output_type": "stream",
     "text": [
      "############################## Match-CLIPMulti start ##############################\n",
      "dataset: topic\n",
      "load model\n",
      "100%|███████████████████████████████████████████| 10/10 [00:00<00:00, 43.95it/s]\n",
      "------------------------------------------------------------\n",
      "dataset: emotion\n",
      "load model\n",
      "100%|███████████████████████████████████████████| 10/10 [00:00<00:00, 46.39it/s]\n",
      "------------------------------------------------------------\n",
      "dataset: situation\n",
      "load model\n",
      "100%|███████████████████████████████████████████| 12/12 [00:00<00:00, 48.36it/s]\n",
      "------------------------------------------------------------\n",
      "dataset: agnews\n",
      "load model\n",
      "100%|█████████████████████████████████████████████| 4/4 [00:00<00:00, 48.08it/s]\n",
      "------------------------------------------------------------\n",
      "dataset: snips\n",
      "load model\n",
      "100%|█████████████████████████████████████████████| 7/7 [00:00<00:00, 47.13it/s]\n",
      "------------------------------------------------------------\n",
      "dataset: trec\n",
      "load model\n",
      "100%|█████████████████████████████████████████████| 6/6 [00:00<00:00, 47.92it/s]\n",
      "------------------------------------------------------------\n",
      "dataset: subj\n",
      "load model\n",
      "100%|█████████████████████████████████████████████| 2/2 [00:00<00:00, 48.72it/s]\n",
      "------------------------------------------------------------\n",
      "############################## Match-CLIPMulti done. ##############################\n"
     ]
    }
   ],
   "source": [
    "!python label2text_main.py --prompt 1 --num_of_word 30 --topk 1"
   ]
  },
  {
   "cell_type": "code",
   "execution_count": null,
   "id": "2e8b6044-2eee-45d1-9901-3d8c5183a390",
   "metadata": {},
   "outputs": [],
   "source": []
  }
 ],
 "metadata": {
  "kernelspec": {
   "display_name": "Python 3 (ipykernel)",
   "language": "python",
   "name": "python3"
  },
  "language_info": {
   "codemirror_mode": {
    "name": "ipython",
    "version": 3
   },
   "file_extension": ".py",
   "mimetype": "text/x-python",
   "name": "python",
   "nbconvert_exporter": "python",
   "pygments_lexer": "ipython3",
   "version": "3.10.0"
  }
 },
 "nbformat": 4,
 "nbformat_minor": 5
}
